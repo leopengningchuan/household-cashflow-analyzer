{
 "cells": [
  {
   "cell_type": "code",
   "execution_count": 221,
   "id": "5a2ab4f3-9f0f-403c-8e24-09633340a2ec",
   "metadata": {},
   "outputs": [],
   "source": [
    "import os\n",
    "import pandas as pd"
   ]
  },
  {
   "cell_type": "code",
   "execution_count": 238,
   "id": "8ed0bd47-9532-41f3-b7b4-fd1a400d8682",
   "metadata": {},
   "outputs": [
    {
     "data": {
      "text/plain": [
       "{'CC-4253', 'DC-9084'}"
      ]
     },
     "execution_count": 238,
     "metadata": {},
     "output_type": "execute_result"
    }
   ],
   "source": [
    "folder_path = \"statement\"\n",
    "\n",
    "csv_files = [f for f in os.listdir(folder_path) if f.endswith('.csv')]\n",
    "\n",
    "statement_set = set(i[0: 7] for i in csv_files)\n",
    "\n",
    "statement_set"
   ]
  },
  {
   "cell_type": "code",
   "execution_count": 255,
   "id": "7311168b-c1aa-41b9-b3c9-60a7bbf36e97",
   "metadata": {},
   "outputs": [],
   "source": [
    "def get_data(head):\n",
    "    df_list = []\n",
    "    for file in csv_files:\n",
    "        file_path = os.path.join(folder_path, file)\n",
    "        \n",
    "        if file[0: 7] == head and file[0: 2] == 'CC':\n",
    "            df = pd.read_csv(file_path)\n",
    "            df = df.rename(columns = {'Posted Date': 'Date', 'Payee': 'Description'})\n",
    "            df_list.append(df[['Date', 'Description', 'Amount']])\n",
    "        elif file[0: 7] == head and file[0: 2] == 'DC':\n",
    "            df = pd.read_csv(file_path, skiprows = 6)\n",
    "            df['Amount'] = df['Amount'].apply(lambda x: str(x).replace(\",\", \"\")).astype(float)\n",
    "            df_list.append(df[['Date', 'Description', 'Amount']])\n",
    "    \n",
    "    combined_df = pd.concat(df_list)\n",
    "    combined_df['Card'] = head\n",
    "    combined_df[\"Date\"] = pd.to_datetime(combined_df[\"Date\"], format=\"%m/%d/%Y\")\n",
    "    combined_df = combined_df[combined_df['Amount'].notna()]\n",
    "    \n",
    "    combined_df = combined_df.sort_values('Date').reset_index(drop = True)\n",
    "\n",
    "    return combined_df"
   ]
  },
  {
   "cell_type": "code",
   "execution_count": 264,
   "id": "ed34b0d9-5e59-40db-a803-8bbfd298f0cd",
   "metadata": {},
   "outputs": [],
   "source": [
    "CC_Leo_df = get_data('CC-4253')\n",
    "DC_Leo_df = get_data('DC-9084')\n",
    "DC_Leo_df = DC_Leo_df[DC_Leo_df['Date'] >= '2025-01-01']"
   ]
  },
  {
   "cell_type": "code",
   "execution_count": 265,
   "id": "f6882041-77dd-44b7-a2fa-fcf7ac3a98a6",
   "metadata": {},
   "outputs": [],
   "source": [
    "Payee_map = {\n",
    "    'GEICO': 'Auto: Insurance',\n",
    "    'AAA CA MEMBERSHIP': 'Auto: Insurance',\n",
    "    'FARMERS INS': 'Auto: Insurance',\n",
    "    'CHEVRON': 'Auto: Gas',\n",
    "    'MISSION FUEL': 'Auto: Gas',\n",
    "    'COSTCO GAS': 'Auto: Gas',\n",
    "    'CONSERV FUEL': 'Auto: Gas',\n",
    "    'ARCO': 'Auto: Gas',\n",
    "    'NEW CENTURY MAZDA': 'Auto: Maintainence',\n",
    "    'BELLAGIO EXPRESS': 'Auto: Car Wash',\n",
    "    'DMV': 'Auto: DMV fee',\n",
    "    \n",
    "    'GOOD FORTUNE SUPERMARKET': 'Grocery: GFM',\n",
    "    '99 RANCH': 'Grocery: 99 Ranch',\n",
    "    '7-ELEVEN': 'Grocery: 7-ELEVEN',\n",
    "    'TARGET': 'Grocery: Target',\n",
    "    'CVS/PHARMACY': 'Grocery: CVS',\n",
    "    'COSTCO WHSE': 'Grocery: Costco',\n",
    "    'COSTCO *ANNUAL RENEWAL': 'Grocery: Costco',\n",
    "    'H MART': 'Grocery: HMart',\n",
    "    'LITTLE PEACH MEAT': 'Grocery: Meat Shop',\n",
    "    'VONS': 'Grocery: others',\n",
    "    'GINSENG': 'Grocery: others',\n",
    "\n",
    "    'LinkedInPre': 'Study: LinkedIn',\n",
    "    'UDEMY': 'Study: Udemy',\n",
    "    'OPENAI': 'Study: ChatGPT',\n",
    "    'GITHUB': 'Study: GitHub',\n",
    "\n",
    "    'The UPS Store': 'Logistic: UPS',\n",
    "    'USPS': 'Logistic: USPS',\n",
    "\n",
    "    'CITY OF ARCADIA': 'Utility: Water',\n",
    "    'Spectrum': 'Utility: Spectrum',\n",
    "    'SO CAL EDISON': 'Utility: Edison',\n",
    "    'SO CAL GAS': 'Utility: SoCal Gas',\n",
    "    'LA Co TTC Paymnt': 'Utility: Property Tax',\n",
    "    \n",
    "    'Chun La Hao': 'Restaurant: Hotpot',\n",
    "    'CHI HUO': 'Restaurant: Hotpot',\n",
    "    '101 POT': 'Restaurant: Hotpot',\n",
    "    'KUAN ZHAI ALLEY': 'Restaurant: Sichuan Dish',\n",
    "    'IN-N-OUT': 'Restaurant: Fast Food',\n",
    "    'HABIT': 'Restaurant: Fast Food',\n",
    "    'RAMEN': 'Restaurant: Japanese Dish',\n",
    "    'TOFU HOUSE': 'Restaurant: Korean Dish',\n",
    "    'LADY M': 'Restaurant: Desert',\n",
    "    '85C': 'Restaurant: Desert',\n",
    "    'SHANGHAILANDER': 'Restaurant: Shanghai Dish',\n",
    "\n",
    "    'APPLE': 'Other: Apple',\n",
    "    'HOSPITAL': 'Other: Hospital',\n",
    "    'HOME DEPOT': 'Other: Home Depot',\n",
    "    'VCN*LOSANGELESCODPH': 'Other: Baby Certificate',\n",
    "    'CA SOS BPD LOS ANGELES': 'Other: Baby Certificate',\n",
    "    'BELLA BABY PHOTOGRAPHY': 'Other: Baby Photo',\n",
    "    'BKOFAMERICA MOBILE': 'Other: Mobile Check',\n",
    "\n",
    "    'Online payment': 'CC Payback: Money',\n",
    "    'CASH REWARDS STATEMENT CREDIT': 'CC Payback: Credit',\n",
    "    'CASHREWARD': 'CC Payback: Credit',\n",
    "\n",
    "    'DES:PAYROLL ID:XXXXX716960': 'Payroll: Luminys',\n",
    "    'C185529 LUMINYS': 'Payroll: Luminys',\n",
    "    'CERTIFY- LUMINYS': 'Payroll: Reimbursement',\n",
    "    'Money Network DES:': 'Payroll: EDD',\n",
    "    'IRS': 'Tax: IRS',\n",
    "    'FRANCHISE TAX BD DES:CASTTAXRFD': 'Tax: CA',\n",
    "    \"Zelle payment to ROGER'S TAX SERVICES LLC\": 'Tax: Roger Service',\n",
    "\n",
    "    'Zelle payment from CHENWEI XU': 'Internal: Transfer',\n",
    "    'Zelle payment to CHENWEI XU': 'Internal: Transfer',\n",
    "    'Zelle payment from CHENWEI XU': 'Internal: Transfer',\n",
    "    'Online Banking transfer to SAV 7913': 'Internal: Investment',\n",
    "    'Online Banking transfer from SAV 7913': 'Internal: Investment',\n",
    "    'WIRE TYPE': 'Internal: Wire',\n",
    "    'Wire Transfer Fee': 'Internal: Wire',\n",
    "\n",
    "    'Online Banking payment to CRD 4253': 'CC Payback: Money',\n",
    "    'DISCOVER DES': 'CC Payback: Discover',\n",
    "\n",
    "    'Zelle payment to YUKAI GAO': 'Rent: CTHD',\n",
    "    'Zelle payment to XUE SHIMING': 'Rent: Avlon'\n",
    "}"
   ]
  },
  {
   "cell_type": "code",
   "execution_count": 266,
   "id": "8f009e32-e0fd-4c00-9f8a-e2de1f120612",
   "metadata": {},
   "outputs": [],
   "source": [
    "for keyword, mapped_value in Payee_map.items():\n",
    "    CC_Leo_df.loc[CC_Leo_df[\"Description\"].str.contains(keyword, case=False, regex=False, na=False), \"Type\"] = mapped_value\n",
    "\n",
    "    DC_Leo_df.loc[DC_Leo_df[\"Description\"].str.contains(keyword, case=False, regex=False, na=False), \"Type\"] = mapped_value"
   ]
  },
  {
   "cell_type": "code",
   "execution_count": 269,
   "id": "318862b5-bceb-4f47-93bf-96e5fc6d6b3a",
   "metadata": {},
   "outputs": [],
   "source": [
    "def CC_get(cc_dateset):\n",
    "    cc_max_i = max(CC_Leo_df[CC_Leo_df['Type'] == 'CC Payback: Money'].index)\n",
    "\n",
    "    i = 0\n",
    "    while round(CC_Leo_df.loc[i: cc_max_i]['Amount'].sum(), 2) != 0:\n",
    "        i += 1\n",
    "\n",
    "    return CC_Leo_df.loc[i: cc_max_i]"
   ]
  },
  {
   "cell_type": "code",
   "execution_count": 273,
   "id": "2695fe14-53c4-4c25-92d5-369113d4be9c",
   "metadata": {},
   "outputs": [],
   "source": [
    "combined_Leo = pd.concat([DC_Leo_df, CC_get(CC_Leo_df)]).sort_values('Date').reset_index(drop = True)\n",
    "\n",
    "if combined_Leo[combined_Leo['Type'] == 'CC Payback: Money']['Amount'].sum() == 0:\n",
    "    combined_Leo = combined_Leo[combined_Leo['Type'] != 'CC Payback: Money']"
   ]
  },
  {
   "cell_type": "code",
   "execution_count": null,
   "id": "8eb3e719-f229-4a3f-b967-df6dc5762eb1",
   "metadata": {},
   "outputs": [],
   "source": []
  },
  {
   "cell_type": "code",
   "execution_count": null,
   "id": "d88305c6-b071-4da8-98c3-ac7632b658ec",
   "metadata": {},
   "outputs": [],
   "source": []
  },
  {
   "cell_type": "code",
   "execution_count": 277,
   "id": "d3e8749b-2325-43fb-ab78-e02be014d903",
   "metadata": {},
   "outputs": [],
   "source": [
    "combined_Leo.to_excel(\"test_Leo.xlsx\", index=False)"
   ]
  },
  {
   "cell_type": "code",
   "execution_count": null,
   "id": "9ccc963b-5bb3-4f82-aaa9-2e42e7a87da7",
   "metadata": {},
   "outputs": [],
   "source": []
  }
 ],
 "metadata": {
  "kernelspec": {
   "display_name": "Python 3 (ipykernel)",
   "language": "python",
   "name": "python3"
  },
  "language_info": {
   "codemirror_mode": {
    "name": "ipython",
    "version": 3
   },
   "file_extension": ".py",
   "mimetype": "text/x-python",
   "name": "python",
   "nbconvert_exporter": "python",
   "pygments_lexer": "ipython3",
   "version": "3.11.7"
  }
 },
 "nbformat": 4,
 "nbformat_minor": 5
}
