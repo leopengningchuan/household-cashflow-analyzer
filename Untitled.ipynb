{
 "cells": [
  {
   "cell_type": "code",
   "execution_count": 5,
   "id": "5a2ab4f3-9f0f-403c-8e24-09633340a2ec",
   "metadata": {},
   "outputs": [],
   "source": [
    "import os\n",
    "import pandas as pd"
   ]
  },
  {
   "cell_type": "code",
   "execution_count": 132,
   "id": "b7678724-4a55-45fc-bf09-664a5fb1e5a3",
   "metadata": {},
   "outputs": [],
   "source": [
    "folder_path = \"statement\"\n",
    "\n",
    "csv_files = [f for f in os.listdir(folder_path) if f.endswith('.csv')]\n",
    "\n",
    "\n",
    "df_list = []\n",
    "for file in csv_files:\n",
    "    file_path = os.path.join(folder_path, file)\n",
    "    df = pd.read_csv(file_path)\n",
    "    df_list.append(df)\n",
    "\n",
    "\n",
    "combined_df[\"Posted Date\"] = pd.to_datetime(combined_df[\"Posted Date\"], format=\"%m/%d/%Y\")\n",
    "combined_df = pd.concat(df_list, ignore_index=True).sort_values('Posted Date').reset_index(drop = True)"
   ]
  },
  {
   "cell_type": "code",
   "execution_count": 137,
   "id": "f6882041-77dd-44b7-a2fa-fcf7ac3a98a6",
   "metadata": {},
   "outputs": [],
   "source": [
    "Payee_map = {\n",
    "    'GEICO': 'Auto: Insurance',\n",
    "    'AAA CA MEMBERSHIP': 'Auto: Insurance',\n",
    "    'CHEVRON': 'Auto: Gas',\n",
    "    'MISSION FUEL': 'Auto: Gas',\n",
    "    'COSTCO GAS': 'Auto: Gas',\n",
    "    'CONSERV FUEL': 'Auto: Gas',\n",
    "    'ARCO': 'Auto: Gas',\n",
    "    'NEW CENTURY MAZDA': 'Auto: Maintainence',\n",
    "    'BELLAGIO EXPRESS': 'Auto: Car Wash',\n",
    "    \n",
    "    'GOOD FORTUNE SUPERMARKET': 'Grocery: Good Fortune',\n",
    "    '99 RANCH': 'Grocery: 99 Ranch',\n",
    "    '7-ELEVEN': 'Grocery: 7-ELEVEN',\n",
    "    'TARGET': 'Grocery: Target',\n",
    "    'CVS/PHARMACY': 'Grocery: CVS',\n",
    "    'COSTCO WHSE': 'Grocery: Costco',\n",
    "    'COSTCO *ANNUAL RENEWAL': 'Grocery: Costco',\n",
    "    'H MART': 'Grocery: HMart',\n",
    "    'LITTLE PEACH MEAT': 'Grocery: Little Peach Meat',\n",
    "    'VONS': 'Grocery: VONS',\n",
    "    'GINSENG': 'Grocery: Ginseng',\n",
    "\n",
    "    'LinkedInPre': 'Study: LinkedIn',\n",
    "    'UDEMY': 'Study: Udemy',\n",
    "    'OPENAI': 'Study: ChatGPT',\n",
    "    'GITHUB': 'Study: GitHub',\n",
    "\n",
    "    'The UPS Store': 'Logistic: UPS',\n",
    "    'USPS': 'Logistic: USPS',\n",
    "\n",
    "    'CITY OF ARCADIA': 'Utility: Water',\n",
    "    'Spectrum': 'Utility: Web',\n",
    "    \n",
    "    'Chun La Hao': 'Restaurant: Hotpot',\n",
    "    'CHI HUO': 'Restaurant: Hotpot',\n",
    "    '101 POT': 'Restaurant: Hotpot',\n",
    "    'KUAN ZHAI ALLEY': 'Restaurant: Sichuan Dish',\n",
    "    'IN-N-OUT': 'Restaurant: Western Dish',\n",
    "    'HABIT': 'Restaurant: Western Dish',\n",
    "    'RAMEN': 'Restaurant: Japanese Dish',\n",
    "    'TOFU HOUSE': 'Restaurant: Korean Dish',\n",
    "    'LADY M': 'Restaurant: Desert',\n",
    "    '85C': 'Restaurant: Desert',\n",
    "    'SHANGHAILANDER': 'Restaurant: Shanghai Dish',\n",
    "\n",
    "    'APPLE': 'Other: Apple',\n",
    "    'HOSPITAL': 'Other: Hospital',\n",
    "    'HOME DEPOT': 'Other: Home Depot',\n",
    "    'VCN*LOSANGELESCODPH': 'Other: Baby Certificate',\n",
    "    'CA SOS BPD LOS ANGELES': 'Other: Baby Certificate',\n",
    "    'BELLA BABY PHOTOGRAPHY': 'Other: Baby Photo',\n",
    "\n",
    "    'Online payment': 'Payback: Money',\n",
    "    'CASH REWARDS STATEMENT CREDIT': 'Payback: Credit'\n",
    "    \n",
    "}"
   ]
  },
  {
   "cell_type": "code",
   "execution_count": 138,
   "id": "8f009e32-e0fd-4c00-9f8a-e2de1f120612",
   "metadata": {},
   "outputs": [],
   "source": [
    "for keyword, mapped_value in Payee_map.items():\n",
    "    combined_df.loc[combined_df[\"Payee\"].str.contains(keyword, case=False, regex=False, na=False), \"Mapped_Payee\"] = mapped_value"
   ]
  },
  {
   "cell_type": "code",
   "execution_count": 139,
   "id": "98245238-3cba-4fa1-8401-ccd00d333bdc",
   "metadata": {},
   "outputs": [
    {
     "data": {
      "text/plain": [
       "array(['WL *VUE*Testing Exam 953-6813000 MN',\n",
       "       'COMP OF MD EST CORP 410-2607980 MD',\n",
       "       'GOV SVC FEE EST CORP 703-8945000 VA'], dtype=object)"
      ]
     },
     "execution_count": 139,
     "metadata": {},
     "output_type": "execute_result"
    }
   ],
   "source": [
    "combined_df[combined_df['Mapped_Payee'].isna()]['Payee'].unique()"
   ]
  },
  {
   "cell_type": "code",
   "execution_count": 140,
   "id": "d6061531-9109-4ff6-8138-e63cd878319d",
   "metadata": {},
   "outputs": [
    {
     "data": {
      "text/html": [
       "<div>\n",
       "<style scoped>\n",
       "    .dataframe tbody tr th:only-of-type {\n",
       "        vertical-align: middle;\n",
       "    }\n",
       "\n",
       "    .dataframe tbody tr th {\n",
       "        vertical-align: top;\n",
       "    }\n",
       "\n",
       "    .dataframe thead th {\n",
       "        text-align: right;\n",
       "    }\n",
       "</style>\n",
       "<table border=\"1\" class=\"dataframe\">\n",
       "  <thead>\n",
       "    <tr style=\"text-align: right;\">\n",
       "      <th></th>\n",
       "      <th>Posted Date</th>\n",
       "      <th>Reference Number</th>\n",
       "      <th>Payee</th>\n",
       "      <th>Address</th>\n",
       "      <th>Amount</th>\n",
       "      <th>Mapped_Payee</th>\n",
       "    </tr>\n",
       "  </thead>\n",
       "  <tbody>\n",
       "    <tr>\n",
       "      <th>63</th>\n",
       "      <td>2025-03-18</td>\n",
       "      <td>24906415076224559013115</td>\n",
       "      <td>WL *VUE*Testing Exam 953-6813000 MN</td>\n",
       "      <td>953-6813000   MN</td>\n",
       "      <td>-83.0</td>\n",
       "      <td>NaN</td>\n",
       "    </tr>\n",
       "    <tr>\n",
       "      <th>65</th>\n",
       "      <td>2025-03-22</td>\n",
       "      <td>74906415080224906655849</td>\n",
       "      <td>WL *VUE*Testing Exam 953-6813000 MN</td>\n",
       "      <td>953-6813000   MN</td>\n",
       "      <td>83.0</td>\n",
       "      <td>NaN</td>\n",
       "    </tr>\n",
       "    <tr>\n",
       "      <th>100</th>\n",
       "      <td>2024-12-20</td>\n",
       "      <td>24073144354900018508243</td>\n",
       "      <td>COMP OF MD EST CORP 410-2607980 MD</td>\n",
       "      <td>410-2607980   MD</td>\n",
       "      <td>-200.0</td>\n",
       "      <td>NaN</td>\n",
       "    </tr>\n",
       "    <tr>\n",
       "      <th>101</th>\n",
       "      <td>2024-12-20</td>\n",
       "      <td>24073144354900018407263</td>\n",
       "      <td>GOV SVC FEE EST CORP 703-8945000 VA</td>\n",
       "      <td>703-8945000   VA</td>\n",
       "      <td>-4.9</td>\n",
       "      <td>NaN</td>\n",
       "    </tr>\n",
       "  </tbody>\n",
       "</table>\n",
       "</div>"
      ],
      "text/plain": [
       "    Posted Date         Reference Number                                Payee  \\\n",
       "63   2025-03-18  24906415076224559013115  WL *VUE*Testing Exam 953-6813000 MN   \n",
       "65   2025-03-22  74906415080224906655849  WL *VUE*Testing Exam 953-6813000 MN   \n",
       "100  2024-12-20  24073144354900018508243   COMP OF MD EST CORP 410-2607980 MD   \n",
       "101  2024-12-20  24073144354900018407263  GOV SVC FEE EST CORP 703-8945000 VA   \n",
       "\n",
       "               Address  Amount Mapped_Payee  \n",
       "63   953-6813000   MN    -83.0          NaN  \n",
       "65   953-6813000   MN     83.0          NaN  \n",
       "100  410-2607980   MD   -200.0          NaN  \n",
       "101  703-8945000   VA     -4.9          NaN  "
      ]
     },
     "execution_count": 140,
     "metadata": {},
     "output_type": "execute_result"
    }
   ],
   "source": [
    "combined_df[combined_df['Mapped_Payee'].isna()]"
   ]
  },
  {
   "cell_type": "code",
   "execution_count": null,
   "id": "15753385-16b7-4edf-8c72-1e27932d001f",
   "metadata": {},
   "outputs": [],
   "source": []
  },
  {
   "cell_type": "code",
   "execution_count": null,
   "id": "d88305c6-b071-4da8-98c3-ac7632b658ec",
   "metadata": {},
   "outputs": [],
   "source": []
  },
  {
   "cell_type": "code",
   "execution_count": 141,
   "id": "d3e8749b-2325-43fb-ab78-e02be014d903",
   "metadata": {},
   "outputs": [],
   "source": [
    "combined_df.to_excel(\"combined_statement.xlsx\", index=False)"
   ]
  },
  {
   "cell_type": "code",
   "execution_count": null,
   "id": "f3402720-8a40-4d5c-858f-b1694002de94",
   "metadata": {},
   "outputs": [],
   "source": []
  }
 ],
 "metadata": {
  "kernelspec": {
   "display_name": "Python 3 (ipykernel)",
   "language": "python",
   "name": "python3"
  },
  "language_info": {
   "codemirror_mode": {
    "name": "ipython",
    "version": 3
   },
   "file_extension": ".py",
   "mimetype": "text/x-python",
   "name": "python",
   "nbconvert_exporter": "python",
   "pygments_lexer": "ipython3",
   "version": "3.12.7"
  }
 },
 "nbformat": 4,
 "nbformat_minor": 5
}
